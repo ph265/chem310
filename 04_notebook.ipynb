{
 "cells": [
 {
   "cell_type": "markdown",
   "metadata": {
    "colab_type": "text",
    "id": "view-in-github"
   },
   "source": [
    "<a href=\"https://colab.research.google.com/github/ph265/chem310/blob/main/03_notebook.ipynb\" target=\"_parent\"><img src=\"https://colab.research.google.com/assets/colab-badge.svg\" alt=\"Open In Colab\"/></a>"
   ]
  },
  {
   "cell_type": "markdown",
   "id": "7e6ed37f-8b95-4da7-b06b-c015d995dcab",
   "metadata": {},
   "source": [
    "Plotting Data\n",
    "\n",
    "Setup\n",
    "- import numpy and pandas\n",
    "- we also need the python plotting package pyplot inside of matplotlib\n",
    "- import the data3.csv data file at url='https://raw.githubusercontent.com/ph265/chem310/main/data3.csv'"
   ]
  },
  {
   "cell_type": "code",
   "execution_count": null,
   "id": "a388d73b-8d39-49d0-a3c7-e548cc5d4f0c",
   "metadata": {},
   "outputs": [],
   "source": [
    "import numpy as np\n",
    "import pandas as pd\n",
    "import matplotlib.pyplot as plt\n",
    "print('import packages complete')\n",
    "data3='https://raw.githubusercontent.com/ph265/chem310/main/data3.csv'\n",
    "a = pd.read_csv(data3)\n",
    "print('csv file a')\n",
    "print(a,\"\\n\")\n",
    "a.plot(kind='scatter',x='col1',y='col2')\n",
    "plt.show()"
   ]
  },
  {
   "cell_type": "code",
   "execution_count": null,
   "id": "0e74bd3c-738c-4fd6-8472-f9f9a8e18f5a",
   "metadata": {},
   "outputs": [],
   "source": []
  }
 ],
 "metadata": {
  "kernelspec": {
   "display_name": "Python 3 (ipykernel)",
   "language": "python",
   "name": "python3"
  },
  "language_info": {
   "codemirror_mode": {
    "name": "ipython",
    "version": 3
   },
   "file_extension": ".py",
   "mimetype": "text/x-python",
   "name": "python",
   "nbconvert_exporter": "python",
   "pygments_lexer": "ipython3",
   "version": "3.12.3"
  }
 },
 "nbformat": 4,
 "nbformat_minor": 5
}
