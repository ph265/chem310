{
 "cells": [
  {
   "cell_type": "markdown",
   "metadata": {
    "colab_type": "text",
    "id": "view-in-github"
   },
   "source": [
    "<a href=\"https://colab.research.google.com/github/ph265/chem310/blob/main/05_notebook.ipynb\" target=\"_parent\"><img src=\"https://colab.research.google.com/assets/colab-badge.svg\" alt=\"Open In Colab\"/></a>"
   ]
  },
  {
   "cell_type": "markdown",
   "metadata": {},
   "source": [
    "## Read and Plot Data ##\n",
    "a new jupyter notebook so we need to read in the data from our data file <br>\n",
    "we will read it into the arrays step and energy <br>\n",
    "and then we will plot steps against energy <br>"
   ]
  },
  {
   "cell_type": "code",
   "execution_count": null,
   "metadata": {},
   "outputs": [],
   "source": [
    "#importing packages\n",
    "import numpy as np  #a numerical package\n",
    "import matplotlib.pyplot as plt\n",
    "#connect to google drive\n",
    "from google.colab import drive\n",
    "drive.mount('/content/drive')\n",
    "%cd '/content/drive/MyDrive'\n",
    "print('import complete')"
   ]
  },
  {
   "cell_type": "markdown",
   "metadata": {},
   "source": [
    "read the code, there are a few new things\n",
    "then run the code!"
   ]
  },
  {
   "cell_type": "code",
   "execution_count": null,
   "metadata": {},
   "outputs": [],
   "source": [
    "#open the data file\n",
    "c=open('data_file','r')\n",
    "#set variables and arrays\n",
    "i=0\n",
    "energy=[]\n",
    "step=[]\n",
    "tmp=[]\n",
    "#read file and extract data\n",
    "line=c.readline()\n",
    "while line:\n",
    "  line=c.readline()\n",
    "  # print one line to double check it is what we think  \n",
    "  if i == 0 : print(line)\n",
    "  #a blank line was left in the file which gave a code error, \n",
    "  #so here we check the line is not blank\n",
    "  #\"strip\" strips out any blank spaces\n",
    "  if line.strip():\n",
    "  #we have used a comma as a separtor, we add the separator explicitly to the split    \n",
    "    tmp=line.split(',')\n",
    "    step.append(int(tmp[0]))\n",
    "    energy.append(float(tmp[1]))\n",
    "    print('{0:1}{1:<3}{2:<.8f}'.format('step: ',step[i],energy[i]))\n",
    "    i=i+1\n",
    "  #endif\n",
    "#endwhile\n",
    "#close file and record total count\n",
    "c.close()\n",
    "total_steps=i\n",
    "print('total steps ',total_steps)"
   ]
  },
  {
   "cell_type": "markdown",
   "metadata": {},
   "source": [
    "we will also plot the data <br>\n",
    "we use the package matplotlib <br>\n",
    "https://matplotlib.org/stable/users/explain/quick_start.html <br>\n",
    "each \"frame\" the holds a plot is called a figure 'fig' <br>\n",
    "each plot within a frame is called a subplot (we could have 2, 3, 4 etc plots in one figure)<br>\n",
    "each plot will have its own name, our single plot is called 'grph' <br>\n",
    "we also need to tell the code the axes lables, plot title, and which data to plot <br>\n",
    "we then show the plot using plt.show()  <br>",
    "notice that the 'auto' axis option does not like the large negative numbers '-765.67700124' <br>\n",
    "so it puts a base number above the graph '-7.6567e2', and the variations (eg 0.002) on the y-axis\n"
   ]
  },
  {
   "cell_type": "code",
   "execution_count": null,
   "metadata": {},
   "outputs": [],
   "source": [
    "#create a figure (fig) with one graph (subplot) in it\n",
    "#our graph is called \"grph\"\n",
    "#matplotlib is great for generating a quick graph\n",
    "fig,grph=plt.subplots()\n",
    "grph.set_xlabel('step')   #label x-axis\n",
    "grph.set_ylabel('energy') #label y-axis\n",
    "grph.set_title('optimisation energy') #plot title\n",
    "#now plot the data of step vs energy\n",
    "grph.plot(step,energy)\n",
    "plt.show()"
   ]
  },
  {
   "cell_type": "markdown",
   "metadata": {},
   "source": [
    "matpltlib has the flexibility if you want to do some formatting<br>\n",
    "you can find more formatting options here\n",
    "https://matplotlib.org/stable/api/_as_gen/matplotlib.pyplot.plot.html <br>\n"
   ]
  },
  {
   "cell_type": "code",
   "execution_count": null,
   "metadata": {},
   "outputs": [],
   "source": [
    "#we use the ticker module to format the yaxis numbers better\n",
    "import matplotlib.ticker as ticker\n",
    "fig,ax=plt.subplots()\n",
    "ax.set_xlabel('step')   #label x-axis\n",
    "ax.set_ylabel('energy') #label y-axis\n",
    "ax.set_title('optimisation energy') #plot title\n",
    "#now make things a bit fancy!\n",
    "ax.plot(step,energy, 'o', color='blue', linewidth=3, linestyle='-', label='energy')\n",
    "ax.yaxis.set_major_formatter(ticker.FormatStrFormatter('%9.4f'))\n",
    "plt.xticks(np.arange(min(step), max(step)+1, 2.0))\n",
    "ax.legend()\n",
    "plt.show()"
   ]
  }
 ],
 "metadata": {
  "kernelspec": {
   "display_name": "Python 3 (ipykernel)",
   "language": "python",
   "name": "python3"
  },
  "language_info": {
   "codemirror_mode": {
    "name": "ipython",
    "version": 3
   },
   "file_extension": ".py",
   "mimetype": "text/x-python",
   "name": "python",
   "nbconvert_exporter": "python",
   "pygments_lexer": "ipython3",
   "version": "3.12.3"
  }
 },
 "nbformat": 4,
 "nbformat_minor": 4
}
