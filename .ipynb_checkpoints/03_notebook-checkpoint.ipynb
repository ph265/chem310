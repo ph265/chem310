{
 "cells": [
  {
   "cell_type": "markdown",
   "metadata": {},
   "source": [
    "<a href=\"https://colab.research.google.com/github/ph265/chem310/blob/main/03_notebook.ipynb\" target=\"_parent\"><img src=\"https://colab.research.google.com/assets/colab-badge.svg\" alt=\"Open In Colab\"/></a>"
   ]
  },
  {
   "cell_type": "markdown",
   "metadata": {},
   "source": [
    "## Using GitHub\n",
    "**GitHub** is a place where coders can store, update and share codes <br>\n",
    "<br>\n",
    "today I'm going to share the chem310 'repository' for this lab with you <br>\n",
    "we will run some code to make a connection to your google drive <br>\n",
    "and then we will 'clone' my repository to your google drive, clone just means 'copy'! <br>\n",
    "<br>\n",
    "**google colab** only lets you have a limited number of sessions active close  <br>\n",
    "each notebook when you are finished <br>\n",
    "<br>\n",
    "each google colab session starts from scratch, so you will need to connect <br>\n",
    "your google drive for each session.  A bit clunky but necessary at the moment <br>\n"
   ]
  },
  {
   "cell_type": "code",
   "execution_count": null,
   "metadata": {},
   "outputs": [],
   "source": [
    "#start by making the connection to your google drive\n",
    "#two windows will open about making the connection, choose continue for both\n",
    "from google.colab import drive\n",
    "drive.mount('/content/drive')\n",
    "\n",
    "#change directory (cd) into your google drive\n",
    "#this is actually a unix command on a directory so it has a '%' in front in jupyter notebooks\n",
    "%cd '/content/drive/MyDrive/'\n",
    "#remove the old version if it is there\n",
    "%rm -rf '/content/drive/MyDrive/chem310'\n",
    "#now copy the repository\n",
    "#the git clone command is a unix command to activate something so we have a '!' in front in jupyter notebooks\n",
    "!git clone https://github.com/ph265/chem310.git\n",
    "#now change directory into the repository folder\n",
    "%cd '/content/drive/MyDrive/chem310'\n",
    "#check we are in the right place!\n",
    "%pwd\n",
    "#now copy an important file out of the repository so we have it available for other sessions\n",
    "#cp is actually another unix command to copy a file\n",
    "%cp ehim_cl_631gdp_opt.log /content/drive/MyDrive/ehim_cl_631gdp_opt.log\n"
   ]
  }
 ],
 "metadata": {
  "kernelspec": {
   "display_name": "Python 3 (ipykernel)",
   "language": "python",
   "name": "python3"
  },
  "language_info": {
   "codemirror_mode": {
    "name": "ipython",
    "version": 3
   },
   "file_extension": ".py",
   "mimetype": "text/x-python",
   "name": "python",
   "nbconvert_exporter": "python",
   "pygments_lexer": "ipython3",
   "version": "3.12.3"
  }
 },
 "nbformat": 4,
 "nbformat_minor": 4
}
