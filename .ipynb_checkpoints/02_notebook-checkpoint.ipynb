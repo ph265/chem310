{
 "cells": [
  {
   "cell_type": "markdown",
   "metadata": {
    "colab_type": "text",
    "id": "view-in-github"
   },
   "source": [
    "<a href=\"https://colab.research.google.com/github/ph265/chem310/blob/main/02_notebook.ipynb\" target=\"_parent\"><img src=\"https://colab.research.google.com/assets/colab-badge.svg\" alt=\"Open In Colab\"/></a>"
   ]
  },
  {
   "cell_type": "markdown",
   "metadata": {
    "id": "_USTVMx21th-"
   },
   "source": [
    "**don't forget to open in colab first!**\n",
    "\n",
    "#Arrays\n",
    "  - to work with numbers we need to import a package called \"numpy\" for numberical python\n",
    "  - click on the run button in the code below to import the numpy package, confirm by noting the print statement"
   ]
  },
  {
   "cell_type": "code",
   "execution_count": null,
   "metadata": {
    "colab": {
     "base_uri": "https://localhost:8080/"
    },
    "id": "AMW9Cxhd14Cl",
    "outputId": "d1f08a96-6f84-4575-f45d-9dd3309ee50f"
   },
   "outputs": [],
   "source": [
    "import numpy as np\n",
    "print('import packages complete')"
   ]
  },
  {
   "cell_type": "markdown",
   "metadata": {
    "id": "0QxR-MVu7rOt"
   },
   "source": [
    "An \"array\" is a matrix of data\n",
    "  - think of it as a collection of rows of data\n",
    "  <p align=\"center\"><img src=\"https://drive.google.com/uc?id=1WrU3AfIVYddJl1G_a-bRAcr-FAJwwVIm\" width=400px>\n",
    "  - to identify an entry we define the row first and column second\n",
    "  - so the item in row 2 of column 3 is A<sub>23</sub></p>\n"
   ]
  },
  {
   "cell_type": "markdown",
   "metadata": {
    "id": "nQiJj877Jo3E"
   },
   "source": [
    "We define an array through the numpy package\n",
    "  - the \"shape\" is the expression (rows,columns)\n",
    "  - if we have an array of 10 rows and 2 columns the shape is (10,2)\n",
    "  - the \"dimension\" or \"range\" is rows x columns\n",
    "  - so for the (10,2) array the dimension is 20\n",
    "  - to define our array a in python we write\n"
   ]
  },
  {
   "cell_type": "code",
   "execution_count": null,
   "metadata": {
    "colab": {
     "base_uri": "https://localhost:8080/"
    },
    "id": "ecEysepXPZfV",
    "outputId": "eb3e10bb-6475-4f61-d6ea-648bda5bf4ee"
   },
   "outputs": [],
   "source": [
    "a = np.arange(20).reshape(10,2)\n",
    "print(\"array a\")\n",
    "print(a)"
   ]
  },
  {
   "cell_type": "markdown",
   "metadata": {
    "id": "xqvLSxODQuCL"
   },
   "source": [
    "Run the code above\n",
    "  - notice how numpy has filled our array with some temporary values for us\n",
    "  - notice that python (numpy) **starts counting at zero!**"
   ]
  },
  {
   "cell_type": "markdown",
   "metadata": {
    "id": "bmmjkgaXQ-RQ"
   },
   "source": [
    "We can define the contents of an array from the start\n",
    "  - the following array has 5 rows and 2 columns\n",
    "  - we define each row in square brackets\n",
    "  - and put the whole array in square brackets\n",
    "  - and put all of this inside the \"array()\" definition text"
   ]
  },
  {
   "cell_type": "code",
   "execution_count": null,
   "metadata": {
    "colab": {
     "base_uri": "https://localhost:8080/"
    },
    "id": "6XKrxQ0HRBRx",
    "outputId": "7b238f6b-e012-4a08-bf7c-32d3ce18825e"
   },
   "outputs": [],
   "source": [
    "b = np.array([[0.1, 15.0],[0.1, 12.0],[0.2, 10.0],[0.3, 5.1],[0.0, 1.6]])\n",
    "print(\"array b\")\n",
    "print(b)"
   ]
  },
  {
   "cell_type": "markdown",
   "metadata": {
    "id": "ZifWJMazS2Y7"
   },
   "source": [
    "Run the code above\n",
    "   - notice that python misses out the trailing zeros"
   ]
  },
  {
   "cell_type": "markdown",
   "metadata": {
    "id": "OaldAc2EToxE"
   },
   "source": [
    "Now create your own code block below\n",
    "  - define a matrix \"c\" with 5 rows and 3 columns using the arrange and reshape attributes and print it out\n",
    "  - defina a matrix \"d\" with 3 rows and 2 columns with explicit values and print it out\n",
    "\n"
   ]
  }
 ],
 "metadata": {
  "colab": {
   "authorship_tag": "ABX9TyMZEnFATgRoajn5peBoGesa",
   "include_colab_link": true,
   "provenance": []
  },
  "kernelspec": {
   "display_name": "Python 3 (ipykernel)",
   "language": "python",
   "name": "python3"
  },
  "language_info": {
   "codemirror_mode": {
    "name": "ipython",
    "version": 3
   },
   "file_extension": ".py",
   "mimetype": "text/x-python",
   "name": "python",
   "nbconvert_exporter": "python",
   "pygments_lexer": "ipython3",
   "version": "3.12.3"
  }
 },
 "nbformat": 4,
 "nbformat_minor": 4
}
