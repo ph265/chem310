{
 "cells": [
  {
   "cell_type": "markdown",
   "metadata": {},
   "source": [
    "<a href=\"https://colab.research.google.com/github/ph265/chem310/blob/main/03_notebook.ipynb\" target=\"_parent\"><img src=\"https://colab.research.google.com/assets/colab-badge.svg\" alt=\"Open In Colab\"/></a>"
   ]
  },
  {
   "cell_type": "markdown",
   "metadata": {},
   "source": [
    "## Using GitHub\n",
    "GitHub is a place where coders can store, update and share codes <br>\n",
    "today I'm going to share the chem310 'depository' for this lab with you <br>\n",
    "we will run some code to make a connection to your google drive <br>\n",
    "and then we will 'clone' my depository to your google drive, clone just means 'copy'!"
   ]
  },
  {
   "cell_type": "code",
   "execution_count": null,
   "metadata": {},
   "outputs": [],
   "source": [
    "#start by making the connection to your google drive\n",
    "#two windows will open about making the connection, accept on both\n",
    "from google.colab import drive\n",
    "drive.mount('/content/drive')\n",
    "\n",
    "#change directory into your google drive\n",
    "%cd '/content/drive/MyDrive/'\n",
    "#remove the old version if it is there\n",
    "%rm -rf '/content/drive/MyDrive/chem310'\n",
    "#now copy the repository\n",
    "!git clone https://github.com/ph265/chem310.git\n",
    "#and change directory into the repository folder\n",
    "%cd '/content/drive/MyDrive/chem310'\n",
    "#check we are in the right place!\n",
    "!cp ehim_cl_631gdp_opt.log /content/drive/MyDrive/ehim_cl_631gdp_opt.log\n",
    "%pwd"
   ]
  }
 ],
 "metadata": {
  "kernelspec": {
   "display_name": "Python 3 (ipykernel)",
   "language": "python",
   "name": "python3"
  },
  "language_info": {
   "codemirror_mode": {
    "name": "ipython",
    "version": 3
   },
   "file_extension": ".py",
   "mimetype": "text/x-python",
   "name": "python",
   "nbconvert_exporter": "python",
   "pygments_lexer": "ipython3",
   "version": "3.12.3"
  }
 },
 "nbformat": 4,
 "nbformat_minor": 4
}
