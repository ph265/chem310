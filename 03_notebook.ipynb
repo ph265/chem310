{
  "nbformat": 4,
  "nbformat_minor": 0,
  "metadata": {
    "colab": {
      "provenance": [],
      "authorship_tag": "ABX9TyPbNJx2b3B48MKSMM44B0uv",
      "include_colab_link": true
    },
    "kernelspec": {
      "name": "python3",
      "display_name": "Python 3"
    },
    "language_info": {
      "name": "python"
    }
  },
  "cells": [
    {
      "cell_type": "markdown",
      "metadata": {
        "id": "view-in-github",
        "colab_type": "text"
      },
      "source": [
        "<a href=\"https://colab.research.google.com/github/ph265/chem310/blob/main/03_notebook.ipynb\" target=\"_parent\"><img src=\"https://colab.research.google.com/assets/colab-badge.svg\" alt=\"Open In Colab\"/></a>"
      ]
    },
    {
      "cell_type": "markdown",
      "source": [
        "# Reading in Data\n",
        "\n",
        "We normally want to read in a data set\n",
        "  - the most common format is \"comma separated values\" *.cvs\n",
        "  - this has data in rows with values separated by commas\n",
        "\n",
        "To read a data set we need to import the python package pandas\n",
        "  - click on the run button in the code below to import the numpy and pandas packages, confirm by noting the print statement"
      ],
      "metadata": {
        "id": "Mp75bytCWofd"
      }
    },
    {
      "cell_type": "code",
      "source": [
        "import numpy as np\n",
        "import pandas as pd\n",
        "print('import packages complete')"
      ],
      "metadata": {
        "colab": {
          "base_uri": "https://localhost:8080/"
        },
        "id": "wdyBNNhTXORF",
        "outputId": "8c48d4cd-22c8-40ed-f32f-8b0a456be34b"
      },
      "execution_count": 1,
      "outputs": [
        {
          "output_type": "stream",
          "name": "stdout",
          "text": [
            "import packages complete\n"
          ]
        }
      ]
    }
  ]
}