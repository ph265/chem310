{
  "nbformat": 4,
  "nbformat_minor": 0,
  "metadata": {
    "colab": {
      "provenance": [],
      "authorship_tag": "ABX9TyMZJEdt8uJfXEW/LRrQvW85",
      "include_colab_link": true
    },
    "kernelspec": {
      "name": "python3",
      "display_name": "Python 3"
    },
    "language_info": {
      "name": "python"
    }
  },
  "cells": [
    {
      "cell_type": "markdown",
      "metadata": {
        "id": "view-in-github",
        "colab_type": "text"
      },
      "source": [
        "<a href=\"https://colab.research.google.com/github/ph265/chem310/blob/main/03_notebook.ipynb\" target=\"_parent\"><img src=\"https://colab.research.google.com/assets/colab-badge.svg\" alt=\"Open In Colab\"/></a>"
      ]
    },
    {
      "cell_type": "markdown",
      "source": [
        "# Reading in Data\n",
        "\n",
        "We normally want to read in a data set\n",
        "  - the most common format is \"comma separated values\" *.cvs\n",
        "  - this has data in rows with values separated by commas\n",
        "\n",
        "To read a data set we need to import the python package pandas\n",
        "  - click on the run button in the code below to import the numpy and pandas packages, confirm by noting the print statement"
      ],
      "metadata": {
        "id": "Mp75bytCWofd"
      }
    },
    {
      "cell_type": "code",
      "source": [
        "import numpy as np\n",
        "import pandas as pd\n",
        "print('import packages complete')"
      ],
      "metadata": {
        "colab": {
          "base_uri": "https://localhost:8080/"
        },
        "id": "wdyBNNhTXORF",
        "outputId": "862983bb-1d3c-4ee4-eb06-be000e31491a"
      },
      "execution_count": 2,
      "outputs": [
        {
          "output_type": "stream",
          "name": "stdout",
          "text": [
            "import packages complete\n"
          ]
        }
      ]
    },
    {
      "cell_type": "markdown",
      "source": [
        "A dataset is called a \"DataFrame\" in pandas\n",
        "  - each DataFrame needs a name\n",
        "  - we can read in a numpty array\n",
        "\n",
        "Execute the code below to see an np_array and pandus DataFrame"
      ],
      "metadata": {
        "id": "tL5-qfycYHvH"
      }
    },
    {
      "cell_type": "code",
      "source": [
        "#define our numpty array\n",
        "np_array = np.array([[0.1, 15.0],[0.1, 12.0],[0.2, 10.0],[0.3, 5.1],[0.0, 1.6]])\n",
        "print('np_array')\n",
        "print(np_array,\"\\n\")\n",
        "\n",
        "\n",
        "#import into pandas\n",
        "pd_data=pd.DataFrame(np_array)\n",
        "print('pd_data')\n",
        "print(pd_data,\"\\n\")"
      ],
      "metadata": {
        "colab": {
          "base_uri": "https://localhost:8080/"
        },
        "id": "ucS09umGYlNC",
        "outputId": "71a4b2b7-46b4-4dd2-e4e3-d2761f37603e"
      },
      "execution_count": 10,
      "outputs": [
        {
          "output_type": "stream",
          "name": "stdout",
          "text": [
            "np_array\n",
            "[[ 0.1 15. ]\n",
            " [ 0.1 12. ]\n",
            " [ 0.2 10. ]\n",
            " [ 0.3  5.1]\n",
            " [ 0.   1.6]] \n",
            "\n",
            "pd_data\n",
            "     0     1\n",
            "0  0.1  15.0\n",
            "1  0.1  12.0\n",
            "2  0.2  10.0\n",
            "3  0.3   5.1\n",
            "4  0.0   1.6 \n",
            "\n"
          ]
        }
      ]
    },
    {
      "cell_type": "markdown",
      "source": [
        "Notice the differences\n",
        "  - the DataFrame print also includes column and row headings\n",
        "  - I added an extra bit to the print statement to make things easier to read\n",
        "  - a print statement can print more than one variable and it can print strings \"\\n\" is the \"string\" for a new-line"
      ],
      "metadata": {
        "id": "C9zI3mDGaHI5"
      }
    },
    {
      "cell_type": "markdown",
      "source": [
        "We can read a data file into a pandas DataFrame\n",
        "  -"
      ],
      "metadata": {
        "id": "fqiVq9FHaiLB"
      }
    }
  ]
}