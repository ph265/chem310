{
 "cells": [
  {
   "cell_type": "code",
   "execution_count": null,
   "metadata": {},
   "outputs": [],
   "source": [
    "==Extracting Data==\n",
    "if you have been in chem307 you will have run a computational chemistry optimisation job <br>\n",
    "out of that we get a log file with lots of data in it <br>\n",
    "but sometimes we want to extract specific pieces of data <br>\n",
    "take a look in the github directory at the file \"ehim_cl_631gdp_opt.log\" in wordpad or other text editor <br>\n",
    "python is very good at extracting data from such files <br>\n",
    "today we are going to extract the energy of each optimisation step (and then graph it) <br>"
   ]
  },
  {
   "cell_type": "code",
   "execution_count": null,
   "metadata": {},
   "outputs": [],
   "source": [
    "#start by importing packages\n",
    "import numpy as np  #a numerical package\n",
    "import matplotlib.pyplot as plt\n",
    "print('import complete')"
   ]
  },
  {
   "cell_type": "markdown",
   "metadata": {},
   "source": [
    "we have loaded numerical py <br>\n",
    "and we have loaded a \"math plotting library\" or matplotlib which is a plotting package"
   ]
  },
  {
   "cell_type": "markdown",
   "metadata": {},
   "source": [
    "below is some python to read a file and extract each line with an energy on it <br>\n",
    "we will then put the energies into an array <br>\n",
    "and write the array to a file for later use <br>\n",
    "read through the code and then run it! "
   ]
  },
  {
   "cell_type": "code",
   "execution_count": 2,
   "metadata": {},
   "outputs": [
    {
     "name": "stdout",
     "output_type": "stream",
     "text": [
      "test\n",
      " SCF Done:  E(RB3LYP) =  -765.671954746     A.U. after   15 cycles\n",
      "\n",
      "step: 0  -765.67195475\n",
      "step: 1  -765.67357064\n",
      "step: 2  -765.67184046\n",
      "step: 3  -765.67404715\n",
      "step: 4  -765.67357441\n",
      "step: 5  -765.67474697\n",
      "step: 6  -765.67550178\n",
      "step: 7  -765.67573371\n",
      "step: 8  -765.67671418\n",
      "step: 9  -765.67689116\n",
      "step: 10 -765.67694306\n",
      "step: 11 -765.67696749\n",
      "step: 12 -765.67698311\n",
      "step: 13 -765.67699210\n",
      "step: 14 -765.67699589\n",
      "step: 15 -765.67699939\n",
      "step: 16 -765.67699992\n",
      "step: 17 -765.67700074\n",
      "step: 18 -765.67700124\n",
      "step: 19 -765.67700135\n",
      "total steps  20\n"
     ]
    }
   ],
   "source": [
    "f=open('ehim_cl_631gdp_opt.log','r')\n",
    "#open the file in read (r) mode, use \"f\" to refer to the opened file\n",
    "#set some defaults\n",
    "i=0\n",
    "#i will be a counter, python always starts from zero!\n",
    "#below we define some arrays with the [] brackets\n",
    "energy=[]\n",
    "step=[]\n",
    "tmp=[]\n",
    "#this is the string we are goiong to search through the file for\n",
    "search_string='SCF Done:'\n",
    "#below says to read a line from file f and put the text string into a variable called \"line\"\n",
    "line=f.readline()\n",
    "# if the variable line exists and is not empty then do the following things\n",
    "# thus this loop is going to read the file line by line\n",
    "# notice the indentation for each \"loop\" this is important in python!\n",
    "print('test')\n",
    "while line:\n",
    "  line=f.readline()\n",
    "  # we want to extract the energy\n",
    "  # if any part of the string that is in line contains the search_string then act\n",
    "  if search_string in line:\n",
    "    # I've printed the first line so you can see what it looks like\n",
    "    if i == 0 : print(line)\n",
    "    #currently line is just one long string\n",
    "    #split divides the string into individual \"words\"\n",
    "    #and they are each placed into individual entries in the array tmp ie tmp[0],tmp[1] etc  \n",
    "    tmp=line.split()\n",
    "    #we are interested in the 5th component of tmp[], the 4th if we start counting from 0\n",
    "    #the entry is a string, but we want it as a number, so we \"float\" to get a real\n",
    "    #and we add this value to the end of our array of energies  \n",
    "    energy.append(float(tmp[4]))\n",
    "    step.append(i)\n",
    "    #here I've printed the values as they are extracted  \n",
    "    print('{0:1}{1:<3}{2:<.8f}'.format('step: ',step[i],energy[i]))\n",
    "    i=i+1\n",
    "  #endif\n",
    "#endwhile\n",
    "#close the file\n",
    "f.close()\n",
    "#remember the total steps\n",
    "total_steps=i\n",
    "print('total steps ',total_steps)"
   ]
  },
  {
   "cell_type": "markdown",
   "metadata": {},
   "source": [
    "so now we have an array that numbers the steps, step[] <br>\n",
    "and an array called energy[], with 19 values in it <br>\n",
    "we can save the data by writing it to a file <br>\n",
    "read through the code and then run it!"
   ]
  },
  {
   "cell_type": "code",
   "execution_count": 3,
   "metadata": {},
   "outputs": [
    {
     "name": "stdout",
     "output_type": "stream",
     "text": [
      "step,     energy au \n",
      "\n",
      "   0, -765.67195475 \n",
      "\n",
      "   1, -765.67357064 \n",
      "\n",
      "   2, -765.67184046 \n",
      "\n",
      "   3, -765.67404715 \n",
      "\n",
      "   4, -765.67357441 \n",
      "\n",
      "   5, -765.67474697 \n",
      "\n",
      "   6, -765.67550178 \n",
      "\n",
      "   7, -765.67573371 \n",
      "\n",
      "   8, -765.67671418 \n",
      "\n",
      "   9, -765.67689116 \n",
      "\n",
      "  10, -765.67694306 \n",
      "\n",
      "  11, -765.67696749 \n",
      "\n",
      "  12, -765.67698311 \n",
      "\n",
      "  13, -765.67699210 \n",
      "\n",
      "  14, -765.67699589 \n",
      "\n",
      "  15, -765.67699939 \n",
      "\n",
      "  16, -765.67699992 \n",
      "\n",
      "  17, -765.67700074 \n",
      "\n",
      "  18, -765.67700124 \n",
      "\n",
      "  19, -765.67700135 \n",
      "\n",
      "\n"
     ]
    }
   ],
   "source": [
    "c=open('data_file','w')\n",
    "#open a file in write (w) mode\n",
    "#and write a heading into the file\n",
    "#here it is formatted for easy reading\n",
    "c.write('{0:>4}, {1:>13} \\n'.format('step','energy au'))\n",
    "i=0\n",
    "#reset our counter\n",
    "#now cycle over all the steps and write the step and energy to the file\n",
    "while i < total_steps :\n",
    "  c.write('{0:>4}, {1:>12.8f} \\n'.format(step[i],energy[i]))\n",
    "  i=i+1\n",
    "#endwhile\n",
    "c.close()\n",
    "#we close the file after writing and then open it again to read\n",
    "c=open('data_file','r')\n",
    "line=c.readline()\n",
    "print(line)\n",
    "while line:\n",
    "  line=c.readline()\n",
    "  print(line)\n",
    "#endwhile"
   ]
  },
  {
   "cell_type": "code",
   "execution_count": null,
   "metadata": {},
   "outputs": [],
   "source": []
  }
 ],
 "metadata": {
  "kernelspec": {
   "display_name": "Python 3 (ipykernel)",
   "language": "python",
   "name": "python3"
  },
  "language_info": {
   "codemirror_mode": {
    "name": "ipython",
    "version": 3
   },
   "file_extension": ".py",
   "mimetype": "text/x-python",
   "name": "python",
   "nbconvert_exporter": "python",
   "pygments_lexer": "ipython3",
   "version": "3.12.3"
  }
 },
 "nbformat": 4,
 "nbformat_minor": 4
}
