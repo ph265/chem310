{
 "cells": [
  {
   "cell_type": "markdown",
   "metadata": {
    "colab_type": "text",
    "id": "view-in-github"
   },
   "source": [
    "<a href=\"https://colab.research.google.com/github/ph265/chem310/blob/main/03_notebook.ipynb\" target=\"_parent\"><img src=\"https://colab.research.google.com/assets/colab-badge.svg\" alt=\"Open In Colab\"/></a>"
   ]
  },
  {
   "cell_type": "markdown",
   "metadata": {
    "id": "Mp75bytCWofd"
   },
   "source": [
    "# Reading in Data\n",
    "\n",
    "We normally want to read in a data set\n",
    "  - the most common format is \"comma separated values\" *.cvs\n",
    "  - this has data in rows with values separated by commas\n",
    "\n",
    "To read a data set we need to import the python package pandas\n",
    "  - click on the run button in the code below to import the numpy and pandas packages, confirm by noting the print statement"
   ]
  },
  {
   "cell_type": "code",
   "execution_count": null,
   "metadata": {
    "colab": {
     "base_uri": "https://localhost:8080/"
    },
    "id": "wdyBNNhTXORF",
    "outputId": "862983bb-1d3c-4ee4-eb06-be000e31491a"
   },
   "outputs": [],
   "source": [
    "import numpy as np\n",
    "import pandas as pd\n",
    "print('import packages complete')"
   ]
  },
  {
   "cell_type": "markdown",
   "metadata": {
    "id": "tL5-qfycYHvH"
   },
   "source": [
    "A dataset is called a \"DataFrame\" in pandas\n",
    "  - each DataFrame needs a name\n",
    "  - we can read in a numpty array\n",
    "\n",
    "Execute the code below to see an np_array and pandus DataFrame"
   ]
  },
  {
   "cell_type": "code",
   "execution_count": null,
   "metadata": {
    "colab": {
     "base_uri": "https://localhost:8080/"
    },
    "id": "ucS09umGYlNC",
    "outputId": "71a4b2b7-46b4-4dd2-e4e3-d2761f37603e"
   },
   "outputs": [],
   "source": [
    "#define our numpty array\n",
    "a = np.array([[0.1, 15.0],[0.1, 12.0],[0.2, 10.0],[0.3, 5.1],[0.0, 1.6]])\n",
    "print('np_array a')\n",
    "print(a,\"\\n\")\n",
    "\n",
    "#import into pandas\n",
    "b=pd.DataFrame(a)\n",
    "print('pd_dataframe b')\n",
    "print(b,\"\\n\")"
   ]
  },
  {
   "cell_type": "markdown",
   "metadata": {
    "id": "C9zI3mDGaHI5"
   },
   "source": [
    "Notice the differences\n",
    "  - the DataFrame print also includes column and row headings\n",
    "  - I added an extra bit to the print statement to make things easier to read\n",
    "  - a print statement can print more than one variable and it can print strings \"\\n\" is the \"string\" for a new-line"
   ]
  },
  {
   "cell_type": "markdown",
   "metadata": {
    "id": "fqiVq9FHaiLB"
   },
   "source": [
    "We can read a data file into a pandas DataFrame\n",
    "  - I have created a file of comma separated vales called data1.csv\n",
    "  - we can use pandas to read in the data from the file and present it\n",
    "  - pandas automatically looks for a header row, so I need to tell it there is no header in this file"
   ]
  },
  {
   "cell_type": "code",
   "execution_count": null,
   "metadata": {},
   "outputs": [],
   "source": [
    "data1='https://raw.githubusercontent.com/ph265/chem310/main/data1.csv'\n",
    "c = pd.read_csv(data1, header=None)\n",
    "print('csv file c')\n",
    "print(c,\"\\n\")"
   ]
  }
 ],
 "metadata": {
  "colab": {
   "authorship_tag": "ABX9TyMZJEdt8uJfXEW/LRrQvW85",
   "include_colab_link": true,
   "provenance": []
  },
  "kernelspec": {
   "display_name": "Python 3 (ipykernel)",
   "language": "python",
   "name": "python3"
  },
  "language_info": {
   "codemirror_mode": {
    "name": "ipython",
    "version": 3
   },
   "file_extension": ".py",
   "mimetype": "text/x-python",
   "name": "python",
   "nbconvert_exporter": "python",
   "pygments_lexer": "ipython3",
   "version": "3.12.3"
  }
 },
 "nbformat": 4,
 "nbformat_minor": 4
}
