{
 "cells": [
  {
   "cell_type": "markdown",
   "metadata": {
    "colab_type": "text",
    "id": "view-in-github"
   },
   "source": [
    "<a href=\"https://colab.research.google.com/github/ph265/chem310/blob/main/01_notebook.ipynb\" target=\"_parent\"><img src=\"https://colab.research.google.com/assets/colab-badge.svg\" alt=\"Open In Colab\"/></a>"
   ]
  },
  {
   "cell_type": "markdown",
   "metadata": {
    "id": "vv_7hiLY7_hZ"
   },
   "source": [
    "#Your first piece of code\n",
    "  - we will work in google colab\n",
    "  - the page you first see (this one) is only a preview\n",
    "  - **click on the colab link** at the top to get started\n",
    "  - this page will open in google colab\n",
    "  -  work through the page\n",
    "  - this will be the same for all the notebooks"
   ]
  },
  {
   "cell_type": "markdown",
   "metadata": {
    "id": "fDoODNde8OVb"
   },
   "source": [
    "Python has variables, they can be\n",
    "  - text or a \"string\", strings have quotes: \"twelve\"\n",
    "  - a decimal number called a \"float\" 12.0\n",
    "  - an integer number called an \"int\" 12\n"
   ]
  },
  {
   "cell_type": "markdown",
   "metadata": {
    "id": "fRZ0rFQhzFMt"
   },
   "source": [
    "We assign a variable with an equals sign"
   ]
  },
  {
   "cell_type": "code",
   "execution_count": null,
   "metadata": {
    "id": "LzhdpcuK9I2K"
   },
   "outputs": [],
   "source": [
    "a='twelve'\n",
    "b=12\n",
    "c=12.0\n",
    "print(a, b, c)"
   ]
  },
  {
   "cell_type": "markdown",
   "metadata": {
    "id": "Dpn92TQh9fKK"
   },
   "source": [
    "Run the code block above\n",
    "  - hover in the code block, the \"play\" button will appear, click on it!\n",
    "  - ignore the warning \"Warning: This notebook was not authored by Google\"\n",
    "  - an output block will appear with your results\n",
    "  - hover the mouse at the start of the white section, a circle with an X in it (&otimes;) will appear\n",
    "  - you can remove the output by clicking on the &otimes;\n",
    "  - try removing the output and re-running the code\n"
   ]
  },
  {
   "cell_type": "markdown",
   "metadata": {
    "id": "1FjCyDMw5uBW"
   },
   "source": [
    "Rules for variable names\n",
    "  - Do not start variable names with numbers\n",
    "  - Do not use special characters (e.g., #, @)\n",
    "  - Do not use Python keywords (e.g., is, True, False)"
   ]
  },
  {
   "cell_type": "markdown",
   "metadata": {
    "id": "-tecGifkuiaw"
   },
   "source": [
    "Now create your own code block below\n",
    "  - use the +Code button above\n",
    "  - write your own piece of code assigning a string, integer and float to aa, bb and cc, and to print your variables\n",
    "  - run your code"
   ]
  }
 ],
 "metadata": {
  "colab": {
   "authorship_tag": "ABX9TyPKGKFz23VO85MKfkJbJYYZ",
   "include_colab_link": true,
   "provenance": []
  },
  "kernelspec": {
   "display_name": "Python 3 (ipykernel)",
   "language": "python",
   "name": "python3"
  },
  "language_info": {
   "codemirror_mode": {
    "name": "ipython",
    "version": 3
   },
   "file_extension": ".py",
   "mimetype": "text/x-python",
   "name": "python",
   "nbconvert_exporter": "python",
   "pygments_lexer": "ipython3",
   "version": "3.12.3"
  }
 },
 "nbformat": 4,
 "nbformat_minor": 4
}
