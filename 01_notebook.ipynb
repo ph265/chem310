{
  "nbformat": 4,
  "nbformat_minor": 0,
  "metadata": {
    "colab": {
      "provenance": [],
      "authorship_tag": "ABX9TyNS+8xiB+My9p1R7BCaiAQY",
      "include_colab_link": true
    },
    "kernelspec": {
      "name": "python3",
      "display_name": "Python 3"
    },
    "language_info": {
      "name": "python"
    }
  },
  "cells": [
    {
      "cell_type": "markdown",
      "metadata": {
        "id": "view-in-github",
        "colab_type": "text"
      },
      "source": [
        "<a href=\"https://colab.research.google.com/github/ph265/chem310/blob/main/01_notebook.ipynb\" target=\"_parent\"><img src=\"https://colab.research.google.com/assets/colab-badge.svg\" alt=\"Open In Colab\"/></a>"
      ]
    },
    {
      "cell_type": "markdown",
      "source": [
        "Python has variables, they can be\n",
        "  - text or a \"string\", strings have quotes: \"twelve\"\n",
        "  - a decimal number called a \"float\" 12.0\n",
        "  - an integer number called an \"int\" 12\n"
      ],
      "metadata": {
        "id": "fDoODNde8OVb"
      }
    },
    {
      "cell_type": "markdown",
      "source": [
        "We assign a variable with an equals sign"
      ],
      "metadata": {
        "id": "fRZ0rFQhzFMt"
      }
    },
    {
      "cell_type": "code",
      "source": [
        "a='twelve'\n",
        "b=12\n",
        "c=12.0\n",
        "print(a, b, c)"
      ],
      "metadata": {
        "id": "LzhdpcuK9I2K"
      },
      "execution_count": null,
      "outputs": []
    },
    {
      "cell_type": "markdown",
      "source": [
        "Run the code block above\n",
        "  - you can remove the output by clicking on the circle with an X in it (&otimes;)\n",
        "  - remove the output and re-run the code\n"
      ],
      "metadata": {
        "id": "Dpn92TQh9fKK"
      }
    },
    {
      "cell_type": "markdown",
      "source": [
        "Rules for variable names\n",
        "  - Do not start with numbers\n",
        "  - Do not use special characters (e.g., #, @)\n",
        "  - Do not use Python keywords (e.g., is, True, False)"
      ],
      "metadata": {
        "id": "1FjCyDMw5uBW"
      }
    },
    {
      "cell_type": "markdown",
      "source": [
        "Now create your own code block below\n",
        "  - use the +Code button above\n",
        "  - write your own piece of code assigning a string, integer and float to aa, bb and cc, and to print your variables\n",
        "  - run your code"
      ],
      "metadata": {
        "id": "-tecGifkuiaw"
      }
    }
  ]
}