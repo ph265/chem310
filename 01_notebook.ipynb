{
  "nbformat": 4,
  "nbformat_minor": 0,
  "metadata": {
    "colab": {
      "provenance": [],
      "authorship_tag": "ABX9TyNipK9T1rkHVAlfigyGKxtg",
      "include_colab_link": true
    },
    "kernelspec": {
      "name": "python3",
      "display_name": "Python 3"
    },
    "language_info": {
      "name": "python"
    }
  },
  "cells": [
    {
      "cell_type": "markdown",
      "metadata": {
        "id": "view-in-github",
        "colab_type": "text"
      },
      "source": [
        "<a href=\"https://colab.research.google.com/github/ph265/chem310/blob/main/01_notebook.ipynb\" target=\"_parent\"><img src=\"https://colab.research.google.com/assets/colab-badge.svg\" alt=\"Open In Colab\"/></a>"
      ]
    },
    {
      "cell_type": "markdown",
      "source": [
        "python has variables, they can be\n",
        "  - text or a \"string\", strings have quotes: \"twelve\"\n",
        "  - a decimal number called a \"float\" 12.0\n",
        "  - an integer number called an \"int\" 12\n",
        "\n",
        "we assign a variable with an equals sign"
      ],
      "metadata": {
        "id": "fDoODNde8OVb"
      }
    },
    {
      "cell_type": "code",
      "source": [
        "a='twelve'\n",
        "b=12\n",
        "c=12.0\n",
        "print(a, b, c)\n"
      ],
      "metadata": {
        "colab": {
          "base_uri": "https://localhost:8080/"
        },
        "id": "LzhdpcuK9I2K",
        "outputId": "c9907e15-4fdf-4501-a121-d3f931abfe5f"
      },
      "execution_count": 1,
      "outputs": [
        {
          "output_type": "stream",
          "name": "stdout",
          "text": [
            "twelve 12 12.0\n"
          ]
        }
      ]
    },
    {
      "cell_type": "markdown",
      "source": [
        "Rules for variable names\n",
        "  - Do not start with numbers\n",
        "  - Do not use special characters (e.g., #, @)\n",
        "  - Do not use Python keywords (e.g., is, True, False)\n"
      ],
      "metadata": {
        "id": "Dpn92TQh9fKK"
      }
    }
  ]
}